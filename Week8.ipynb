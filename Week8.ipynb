{
 "cells": [
  {
   "cell_type": "code",
   "execution_count": null,
   "metadata": {
    "collapsed": false
   },
   "outputs": [],
   "source": [
    "import numpy as np\n",
    "import matplotlib.pyplot as plt\n",
    "def j(n,x):\n",
    "    y=[]\n",
    "    for xx in x:\n",
    "        if n==0:\n",
    "            if xx==0:\n",
    "                y+=[1]\n",
    "            else:\n",
    "                y+=[np.sin(xx)/xx]\n",
    "        if n==1:\n",
    "            if xx==0:\n",
    "                y+=[0]\n",
    "            else:\n",
    "                y+=[(np.sin(xx))/xx**2-(np.cos(xx))/xx]\n",
    "        if n==2:\n",
    "            if xx==0:\n",
    "                y+=[0]\n",
    "            else:\n",
    "                y+=[(3/xx**2-1)*(np.sin(xx)/xx)-3*np.cos(xx)/xx**2]\n",
    "    return np.array(y)\n",
    "    \n",
    "\n",
    "x=np.linspace(0,20)\n",
    "y1=j(0,x)\n",
    "y2=j(1,x)\n",
    "y3=j(2,x)\n",
    "plt.figure(1)\n",
    "plt.plot(x,y1)\n",
    "plt.plot(x,y2)\n",
    "plt.plot(x,y3)\n",
    "plt.show()"
   ]
  },
  {
   "cell_type": "code",
   "execution_count": null,
   "metadata": {
    "collapsed": true
   },
   "outputs": [],
   "source": [
    "def dice(n)\n",
    "    y=[]\n",
    "    while n > 0\n",
    "        y+=[np.random.random_integers(6)]\n",
    "        n = n-1\n",
    "    return sum[np.array(y)]\n",
    "\n",
    "k=0\n",
    "n=2\n",
    "h=[]\n",
    "while k<10000\n",
    "    h+=[dice(n)]\n",
    "    k=k+1\n",
    "return plt.hist(h,11,facecolor='blue')\n",
    "plt.show()"
   ]
  },
  {
   "cell_type": "code",
   "execution_count": null,
   "metadata": {
    "collapsed": true
   },
   "outputs": [],
   "source": []
  }
 ],
 "metadata": {
  "kernelspec": {
   "display_name": "Python 3",
   "language": "python",
   "name": "python3"
  },
  "language_info": {
   "codemirror_mode": {
    "name": "ipython",
    "version": 3
   },
   "file_extension": ".py",
   "mimetype": "text/x-python",
   "name": "python",
   "nbconvert_exporter": "python",
   "pygments_lexer": "ipython3",
   "version": "3.5.1"
  }
 },
 "nbformat": 4,
 "nbformat_minor": 0
}

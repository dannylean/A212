{
 "cells": [
  {
   "cell_type": "code",
   "execution_count": 4,
   "metadata": {
    "collapsed": false
   },
   "outputs": [],
   "source": [
    "import numpy as np\n",
    "import matplotlib.pyplot as plt\n",
    "\n",
    "def LineFitWt(x, y, dy):\n",
    "    '''Inputs:\n",
    "    x: array of independent variables\n",
    "    y: array of dependent variables\n",
    "    dy: array of uncertainties in y\n",
    "    Outputs:\n",
    "    slope: slope of best fit line\n",
    "    yint: y-int of best fit line\n",
    "    X_sq: chi-squared value\n",
    "    Xr_sq: reduced chi-squared value\n",
    "    sb: uncertainty in slope\n",
    "    sa: uncertainty in y-int'''\n",
    "    \n",
    "    if len(x)!=len(y):\n",
    "        raise ValueError('x is not the same length as y')\n",
    "    if len(x)!=len(dy):\n",
    "        raise ValueError('x is not the same length as dy')\n",
    "    if len(y)!=len(dy):\n",
    "        raise ValueError('y is not the same length as dy')\n",
    "    else:\n",
    "        xhat = (x/dy**2).sum()/(1/dy**2).sum()\n",
    "        yhat = (y/dy**2).sum()/(1/dy**2).sum()\n",
    "        slope = (((x-xhat)*y)/dy**2).sum()/(((x-xhat)*x)/dy**2).sum()\n",
    "        yint = yhat - slope*xhat\n",
    "        X_sq = (((y-yint-slope*x)/dy)**2).sum()\n",
    "        Xr_sq = X_sq/(len(x)-2)\n",
    "        sb = np.sqrt(1/((((x-xhat)*x)/dy**2).sum()))\n",
    "        sa = np.sqrt(sb**2*((x**2/dy**2).sum()/(1/dy**2).sum()))\n",
    "    return slope, yint, X_sq, Xr_sq, sb, sa\n",
    "\n",
    "t,v,dv=np.loadtxt('exercise4.txt',unpack='True')\n",
    "slope,yint,X_sq,Xr_sq,sb,sa=LineFitWt(t,v,dv)\n",
    "\n",
    "x=np.linspace(2.23,23.21)\n",
    "y=yint+slope*x\n",
    "\n",
    "def test_lfw():\n",
    "    out = bessel([1,2,3], [1,2,3], [.1,.2,.4])\n",
    "    ntest.assert_almost_equal(out, [0.06203505, 0.19844795, 0.2986375, 0.31751390, 0.90571309, 0.39012570])\n",
    "\n",
    "plt.errorbar(t,v,yerr=dv,fmt='o')\n",
    "plt.plot(x,y)\n",
    "plt.show()"
   ]
  },
  {
   "cell_type": "code",
   "execution_count": null,
   "metadata": {
    "collapsed": true
   },
   "outputs": [],
   "source": []
  }
 ],
 "metadata": {
  "kernelspec": {
   "display_name": "Python 3",
   "language": "python",
   "name": "python3"
  },
  "language_info": {
   "codemirror_mode": {
    "name": "ipython",
    "version": 3
   },
   "file_extension": ".py",
   "mimetype": "text/x-python",
   "name": "python",
   "nbconvert_exporter": "python",
   "pygments_lexer": "ipython3",
   "version": "3.5.1"
  }
 },
 "nbformat": 4,
 "nbformat_minor": 0
}
